{
 "cells": [
  {
   "cell_type": "code",
   "execution_count": 1,
   "metadata": {},
   "outputs": [],
   "source": [
    "import networkx as nx # Networkx Library\n",
    "import matplotlib.pyplot as plt # Matplot lib"
   ]
  },
  {
   "cell_type": "code",
   "execution_count": 2,
   "metadata": {},
   "outputs": [
    {
     "name": "stdout",
     "output_type": "stream",
     "text": [
      "Enter the vertex\n",
      " >>>a\n",
      "Want to enter another vertex? Y/N\n",
      " >>>Y\n",
      " >>>b\n",
      "Want to enter another vertex? Y/N\n",
      " >>>Y\n",
      " >>>c\n",
      "Want to enter another vertex? Y/N\n",
      " >>>Y\n",
      " >>>d\n",
      "Want to enter another vertex? Y/N\n",
      " >>>Y\n",
      " >>>e\n",
      "Want to enter another vertex? Y/N\n",
      " >>>N\n"
     ]
    }
   ],
   "source": [
    "# Takes vertices of the graph as input\n",
    "vertices =[];\n",
    "print(\"Enter the vertex\")\n",
    "while True:\n",
    "    vertices.append(input(\" >>>\"))\n",
    "    print(\"Want to enter another vertex? Y/N\")\n",
    "    counter = input(\" >>>\")\n",
    "    if(counter != 'Y'):\n",
    "        break;\n",
    "vertices; # Gives a list of vertices in graph"
   ]
  },
  {
   "cell_type": "code",
   "execution_count": 3,
   "metadata": {},
   "outputs": [
    {
     "name": "stdout",
     "output_type": "stream",
     "text": [
      "Enter the edge\n",
      " >>>a\n",
      " >>>d\n",
      "Want to enter another vertex? Y/N\n",
      " >>>Y\n",
      " >>>a\n",
      " >>>b\n",
      "Want to enter another vertex? Y/N\n",
      " >>>Y\n",
      " >>>a\n",
      " >>>e\n",
      "Want to enter another vertex? Y/N\n",
      " >>>Y\n",
      " >>>b\n",
      " >>>c\n",
      "Want to enter another vertex? Y/N\n",
      " >>>Y\n",
      " >>>b\n",
      " >>>e\n",
      "Want to enter another vertex? Y/N\n",
      " >>>Y\n",
      " >>>c\n",
      " >>>d\n",
      "Want to enter another vertex? Y/N\n",
      " >>>Y\n",
      " >>>c\n",
      " >>>e\n",
      "Want to enter another vertex? Y/N\n",
      " >>>Y\n",
      " >>>d\n",
      " >>>e\n",
      "Want to enter another vertex? Y/N\n",
      " >>>N\n"
     ]
    },
    {
     "data": {
      "text/plain": [
       "[('a', 'd'),\n",
       " ('a', 'b'),\n",
       " ('a', 'e'),\n",
       " ('b', 'c'),\n",
       " ('b', 'e'),\n",
       " ('c', 'd'),\n",
       " ('c', 'e'),\n",
       " ('d', 'e')]"
      ]
     },
     "execution_count": 3,
     "metadata": {},
     "output_type": "execute_result"
    }
   ],
   "source": [
    "edges = [];\n",
    "print(\"Enter the edge\")\n",
    "while True:\n",
    "    vertex1 = input(\" >>>\")\n",
    "    vertex2 = input(\" >>>\")\n",
    "    edges.append((vertex1,vertex2))\n",
    "    print(\"Want to enter another vertex? Y/N\")\n",
    "    counter = input(\" >>>\")\n",
    "    if(counter != 'Y'):\n",
    "        break;\n",
    "edges\n",
    "    "
   ]
  },
  {
   "cell_type": "code",
   "execution_count": 4,
   "metadata": {},
   "outputs": [
    {
     "name": "stderr",
     "output_type": "stream",
     "text": [
      "/home/sumit/anaconda3/lib/python3.7/site-packages/networkx/drawing/layout.py:923: FutureWarning: arrays to stack must be passed as a \"sequence\" type such as list or tuple. Support for non-sequence iterables such as generators is deprecated as of NumPy 1.16 and will raise an error in the future.\n",
      "  pos = np.row_stack((pos[x] for x in node_list))\n",
      "/home/sumit/anaconda3/lib/python3.7/site-packages/networkx/drawing/nx_pylab.py:579: MatplotlibDeprecationWarning: \n",
      "The iterable function was deprecated in Matplotlib 3.1 and will be removed in 3.3. Use np.iterable instead.\n",
      "  if not cb.iterable(width):\n"
     ]
    },
    {
     "data": {
      "image/png": "[encoded data removed]",
      "text/plain": [
       "<Figure size 432x288 with 1 Axes>"
      ]
     },
     "metadata": {},
     "output_type": "display_data"
    }
   ],
   "source": [
    "#Graph Initialisation(Will be converted into an interface later)\n",
    "G = nx.Graph() \n",
    "G.add_nodes_from(vertices)\n",
    "G.add_edges_from(edges)\n",
    "#Draws our PTP Graph\n",
    "plt.subplot(111)\n",
    "nx.draw_planar(G, with_labels = True)\n",
    "plt.show()"
   ]
  },
  {
   "cell_type": "code",
   "execution_count": 5,
   "metadata": {},
   "outputs": [],
   "source": [
    "# Conversion to directed\n",
    "H = G.to_directed()"
   ]
  },
  {
   "cell_type": "code",
   "execution_count": 6,
   "metadata": {},
   "outputs": [
    {
     "data": {
      "text/plain": [
       "[['b', 'e', 'c'],\n",
       " ['b', 'e', 'a'],\n",
       " ['b', 'c', 'e'],\n",
       " ['b', 'a', 'e'],\n",
       " ['c', 'e', 'd'],\n",
       " ['c', 'd', 'e'],\n",
       " ['a', 'e', 'd'],\n",
       " ['a', 'd', 'e']]"
      ]
     },
     "execution_count": 6,
     "metadata": {},
     "output_type": "execute_result"
    }
   ],
   "source": [
    "# Get all triangles\n",
    "all_cycles = list(nx.simple_cycles(H))\n",
    "all_triangles = []\n",
    "for cycle in all_cycles:\n",
    "     if(len(cycle) == 3):\n",
    "             all_triangles.append(cycle)\n",
    "all_triangles #Contains all triangles in PTP graph"
   ]
  },
  {
   "cell_type": "code",
   "execution_count": 7,
   "metadata": {},
   "outputs": [
    {
     "data": {
      "text/plain": [
       "[('a', 'd'),\n",
       " ('a', 'b'),\n",
       " ('b', 'a'),\n",
       " ('b', 'c'),\n",
       " ('c', 'b'),\n",
       " ('c', 'd'),\n",
       " ('d', 'a'),\n",
       " ('d', 'c')]"
      ]
     },
     "execution_count": 7,
     "metadata": {},
     "output_type": "execute_result"
    }
   ],
   "source": [
    "# Get edges on outer boundary\n",
    "outer_boundary = []\n",
    "for edge in H.edges:\n",
    "\tcount = 0\n",
    "\tfor triangle in all_triangles:\n",
    "\t\tif(edge[0] in triangle and edge[1] in triangle):\n",
    "\t\t\tcount += 1\n",
    "\tif(count == 2):\n",
    "\t\touter_boundary.append(edge)\n",
    "outer_boundary #Contains the outer boundary of PTP Graph"
   ]
  },
  {
   "cell_type": "code",
   "execution_count": 8,
   "metadata": {},
   "outputs": [
    {
     "data": {
      "text/plain": [
       "['a', 'd', 'b', 'c']"
      ]
     },
     "execution_count": 8,
     "metadata": {},
     "output_type": "execute_result"
    }
   ],
   "source": [
    "# Get Vertex-Set of outerboundary\n",
    "outer_vertices = []\n",
    "for edge in outer_boundary:\n",
    "\tif(edge[0] not in outer_vertices):\n",
    "\t\touter_vertices.append(edge[0])\n",
    "\tif(edge[1] not in outer_vertices):\n",
    "\t\touter_vertices.append(edge[1])\n",
    "outer_vertices #Contains vertices containing outer vertices of PTP Graph"
   ]
  },
  {
   "cell_type": "code",
   "execution_count": 9,
   "metadata": {},
   "outputs": [
    {
     "data": {
      "text/plain": [
       "[['a', 'd'], ['d', 'c'], ['c', 'b'], ['b', 'a']]"
      ]
     },
     "execution_count": 9,
     "metadata": {},
     "output_type": "execute_result"
    }
   ],
   "source": [
    "# Get top,left,right and bottom boundaries of graph\n",
    "corner_implying_paths = []\n",
    "loop_count = 0\n",
    "while len(outer_vertices)>1:\n",
    "\ttemp=[]\n",
    "\ttemp.append(outer_vertices[0])\n",
    "\touter_vertices.pop(0)\n",
    "\tfor vertices in temp:\n",
    "\t\tfor vertex in outer_vertices:\n",
    "\t\t\ttemp1 = temp.copy()\n",
    "\t\t\ttemp1.pop(len(temp)-1)\n",
    "\t\t\tif((temp[len(temp)-1],vertex) in outer_boundary):\n",
    "\t\t\t\ttemp.append(vertex)\n",
    "\t\t\t\touter_vertices.remove(vertex)\t\t\n",
    "\t\t\t\tif(temp1 is not None):\n",
    "\t\t\t\t\tfor vertex1 in temp1:\n",
    "\t\t\t\t\t\tif((vertex1,vertex) in H.edges):\n",
    "\t\t\t\t\t\t\ttemp.remove(vertex)\n",
    "\t\t\t\t\t\t\touter_vertices.append(vertex)\n",
    "\tcorner_implying_paths.append(temp)\n",
    "\touter_vertices.insert(0,temp[len(temp)-1])\n",
    "\tif(len(outer_vertices) == 1 and loop_count == 0):\n",
    "\t\touter_vertices.append(corner_implying_paths[0][0])\n",
    "\t\tloop_count += 1\n",
    "\n",
    "def create_cip ( index ):\n",
    "\tcorner_implying_paths.insert(index+1,corner_implying_paths[index])\n",
    "\tcorner_implying_paths[index] = corner_implying_paths[index][0:2]\n",
    "\tdel corner_implying_paths[index+1][0:1]\n",
    "\n",
    "\n",
    "if(len(corner_implying_paths) == 5):\n",
    "    check = True\n",
    "    for vertex in corner_implying_paths[0]:\n",
    "        if((corner_implying_paths[4][0],vertex)in H.edges):\n",
    "            check = False\n",
    "            break\n",
    "    if(check):\n",
    "        corner_implying_paths[0] = corner_implying_paths[4] + list(set(corner_implying_paths[0]) - set(corner_implying_paths[4]))\n",
    "        corner_implying_paths.pop()\n",
    "    else\n",
    "        corner_implying_paths[3] = corner_implying_paths[3] + corner_implying_paths[4]\n",
    "        corner_implying_paths.pop()\n",
    "\n",
    "if(len(corner_implying_paths) == 3):\n",
    "\tindex = corner_implying_paths.index(max(corner_implying_paths,key =len))\n",
    "\tcreate_cip(index)\n",
    "\n",
    "if(len(corner_implying_paths) == 2):\n",
    "\tindex = corner_implying_paths.index(max(corner_implying_paths,key =len))\n",
    "\tcreate_cip(index)\n",
    "\tcreate_cip(index+1)\n",
    "corner_implying_paths    #Gives boundaries of PTP Graph\n"
   ]
  },
  {
   "cell_type": "code",
   "execution_count": 11,
   "metadata": {},
   "outputs": [],
   "source": [
    "#Adding north, south, east and west vertices and connects them to boundary vertices \n",
    "\t\n",
    "G.add_nodes_from([\"North\",\"South\",\"East\",\"West\"])\n",
    "\n",
    "\n",
    "def news_edges( cip , vertex ):\n",
    "\t\"This adds north,east,south,west\"\n",
    "\tfor vertices in cip:\n",
    "\t\tG.add_edge(vertex,vertices)\n",
    "\n",
    "news_edges(corner_implying_paths[0],'North')\n",
    "news_edges(corner_implying_paths[1],'East')\n",
    "news_edges(corner_implying_paths[2],'South')\n",
    "news_edges(corner_implying_paths[3],'West')\n",
    "\n",
    "\n",
    "G.add_edges_from([('North','West'),('West','South'),('South','East'),('East','North')])"
   ]
  },
  {
   "cell_type": "code",
   "execution_count": 13,
   "metadata": {},
   "outputs": [
    {
     "data": {
      "image/png": "[encoded data removed]",
      "text/plain": [
       "<Figure size 432x288 with 1 Axes>"
      ]
     },
     "metadata": {},
     "output_type": "display_data"
    }
   ],
   "source": [
    "#Creates new graph\n",
    "plt.subplot(111)\n",
    "nx.draw_planar(G, with_labels=True)\n",
    "plt.show()"
   ]
  },
  {
   "cell_type": "code",
   "execution_count": null,
   "metadata": {},
   "outputs": [],
   "source": [
    "#For example 1\n",
    "G.add_nodes_from([\"a\",\"b\",\"c\",\"d\",\"e\",\"f\",\"g\",\"h\",\"i\",\"j\"])\n",
    "G.add_edges_from([(\"a\",\"b\"),(\"a\",\"d\"),(\"a\",\"f\"),(\"a\",\"g\"),(\"a\",\"j\"),(\"b\",\"c\"),(\"b\",\"d\"),(\"b\",\"g\"),(\"b\",\"h\"),(\"c\",\"d\"),(\"c\",\"h\"),(\"c\",\"e\"),(\"d\",\"e\"),(\"d\",\"f\"),(\"e\",\"f\"),(\"e\",\"i\"),(\"e\",\"j\"),(\"f\",\"j\"),(\"i\",\"j\")])\n",
    "\n",
    "#For example 2\n",
    "G.add_nodes_from([\"a\",\"b\",\"c\",\"d\",\"e\"])\n",
    "G.add_edges_from([(\"a\",\"d\"),(\"a\",\"b\"),(\"a\",\"e\"),(\"b\",\"c\"),(\"b\",\"e\"),(\"c\",\"d\"),(\"c\",\"e\"),(\"d\",\"e\")])"
   ]
  },
  {
   "cell_type": "code",
   "execution_count": 10,
   "metadata": {},
   "outputs": [
    {
     "data": {
      "text/plain": [
       "['a', 'b', 'c', 'd', 'e', 'f']"
      ]
     },
     "execution_count": 10,
     "metadata": {},
     "output_type": "execute_result"
    }
   ],
   "source": [
    "a = ['a','b','c','d']\n",
    "b = ['e','f']\n",
    "c = a + b\n",
    "c"
   ]
  }
 ],
 "metadata": {
  "kernelspec": {
   "display_name": "Python 3",
   "language": "python",
   "name": "python3"
  },
  "language_info": {
   "codemirror_mode": {
    "name": "ipython",
    "version": 3
   },
   "file_extension": ".py",
   "mimetype": "text/x-python",
   "name": "python",
   "nbconvert_exporter": "python",
   "pygments_lexer": "ipython3",
   "version": "3.7.3"
  }
 },
 "nbformat": 4,
 "nbformat_minor": 2
}
